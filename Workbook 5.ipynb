{
 "cells": [
  {
   "cell_type": "code",
   "execution_count": 1,
   "metadata": {},
   "outputs": [],
   "source": [
    "word_soup = \"\"\"baseball Cat PIGEON crafting order Nature wood characTer joist pigeon COMPOUND yarn Vinyl cat SILVER\n",
    "Pepper JOINT screw compound vinyl carotid SILLY flabberghasted CARDIOid nature golD figure synedoche Joist\n",
    "TERMITE carpet polyLine salt figure CAT SYNEDOCHE phrase GARBAGE pig EON VINYL final rauCOUS fashion leather\n",
    "VINYL natural single LIVING like comMERCIAL siLLY jargon FLUBBER gold joint hammer sIMPLex RACK songs AT\n",
    "HarVEST moon Silver songs at build it and BASEBALL for joist peony palpatation ANECDOTE feathering pervious lowboy\n",
    "PROTECTOR ingenious Gold flabberGHASTED simple x-ray cardioid kangAROO Pig time latin termite early day at the inner\n",
    "joist CARNIVAL sugar pepper plum pickling carpet SIMPLE VEHicle compouND icicle sickle at the foreground in\n",
    "PLays cat and doges sigmoid proof annivERSARY of carotid naturE salamander protector of leather at Harvest\n",
    "\"\"\""
   ]
  },
  {
   "cell_type": "code",
   "execution_count": null,
   "metadata": {},
   "outputs": [],
   "source": [
    "word_list = ..."
   ]
  },
  {
   "cell_type": "markdown",
   "metadata": {},
   "source": [
    "# Task 1\n",
    "\n",
    "First, before anything else, make a new variable called `word_list` which will be a `list` that contains all of the words in `word_soup` separated out as individual words. This will be a \"cleaning the data\" step.\n",
    "\n",
    "**a)** Design a function that takes a `list` and returns a `dict`. The list will be a list of words (like `word_soup`). The returned `dict` will have keys representing each word in the list (in lowercase) and the values will be `int`s representing the number of letters in each word. e.g. `{\"pigeon\": 6}` .\n",
    "\n",
    "\n",
    "**b)** Design a second function that takes two parameters: 1) a `str`,  and 2) a `dict` and returns a `str`. The string will be an input check string. The dict will be a collection of words and their lengths (the output of Task 1a). \n",
    "\n",
    "The function will return a sentence stating if the check string is in the dictionary and, if so, the number of letters it has. If the check string is not in the dictionary, return an \"error string\", something along the lines of `\"Error: your word, <the word>, is not a match\"`\n",
    "\n",
    "**c)** Design a third function that uses the previous two functions and takes two parameters: 1) a `str`, and 2) a `list`of words. The function will return a string that includes the check string and describes the number of letters it has. If the check string is not a word in the word list, the function will return the \"error\" string."
   ]
  },
  {
   "cell_type": "code",
   "execution_count": null,
   "metadata": {},
   "outputs": [],
   "source": [
    "# Function goes here\n"
   ]
  },
  {
   "cell_type": "code",
   "execution_count": null,
   "metadata": {},
   "outputs": [],
   "source": [
    "# Tests go here\n"
   ]
  },
  {
   "cell_type": "markdown",
   "metadata": {},
   "source": [
    "# Task 2\n",
    "Design a function that takes a `list` of `str` (such as `word_list`) and returns a `list` of `str`. The returned list will represent a list of only the unique words in the original list of words. The words in the returned list should all be lower case. `\"BASEball\"` and `\"baseball\"` should be considered the same word. \n",
    "\n",
    "Additionally, the list of words that is returned should be sorted from z to a. \n",
    "\n",
    "**Hint:** Use the Python built-in function `sorted()` to do a sort. There are a couple of different ways to do it from z to a (we covered one way in Lesson 2 with indexing!). Remember, you can use the `help()` function, too.\n",
    "\n"
   ]
  },
  {
   "cell_type": "code",
   "execution_count": null,
   "metadata": {},
   "outputs": [],
   "source": [
    "# Functions go here\n"
   ]
  },
  {
   "cell_type": "code",
   "execution_count": null,
   "metadata": {},
   "outputs": [],
   "source": [
    "# Tests go here\n"
   ]
  },
  {
   "cell_type": "markdown",
   "metadata": {},
   "source": [
    "# Task 3\n",
    "\n",
    "**a)** Design a function that takes a list of words and returns a `dict`. The keys in the returned dictionary will be all the words in the list, in lowercase, and the values will be a list of `str` representing the unique vowels contained in each word. For example, `{\"baseball\": [\"a\", \"e\"]}`, would be the entry for `\"baseball\"`. The list of vowels in each word should sorted from a to z so they will always appear in \"a e i o u\" order. \n",
    "\n",
    "**Hint:** You will need to make good use of `set`s to accomplish this easily. Review the set operations from the lesson and think of how you can use them to perform this task.\n",
    "\n",
    "**b)** Design a second function that takes two parameters, a `str` and a `list`. If the input string is in the input list, the function should return a `str` representing a sentence that states the input string and which vowels are contained in that string. If the input string is not in the input list, the function returns a different `str` which is a sentence saying some kind of error has occured because the word is not in the list. "
   ]
  },
  {
   "cell_type": "code",
   "execution_count": null,
   "metadata": {},
   "outputs": [],
   "source": [
    "# Functions go here\n"
   ]
  },
  {
   "cell_type": "code",
   "execution_count": null,
   "metadata": {},
   "outputs": [],
   "source": [
    "# Tests go here\n"
   ]
  },
  {
   "cell_type": "markdown",
   "metadata": {},
   "source": [
    "## Task 4\n",
    "\n",
    "Design a function called, `convert_to_meters(...)` that takes two parameters, a `float` and a `str`, and returns a `float`. The input `float` represents a distance (in meters) and the input `str` represents the \"prefix\" of the distance in meters (e.g. inputs of `52.5` and `\"k\"` would represent 52.5 km, `1402` and `\"u\"` would represent a distance of 1402 μm, or micrometers). \n",
    "\n",
    "The function returns a `float` which represents the input quantity in \"base meters\", e.g. inputs of `52.5` and `\"k\"` would return `52500`.\n",
    "\n",
    "If the string prefix is an empty string, `\"\"`, then no conversion should take place.\n",
    "\n",
    "Your function should use the pre-created `dict` called `PREFIXES`. You do not have to copy and paste `PREFIXES` into your function body, you can just reference it from inside the \"function namespace\" since it is a variable that was previously defined in the \"notebook namespace\" (we will talk more about this in a future lesson).\n",
    "\n",
    "If the prefix string provided to `convert_to_meters(...)` is not in the `PREFIXES` dict (e.g. `\"Y\"` for \"yottameter\"), then create an error string. \n",
    "\n",
    "However, instead of returning the error string to the user, we are going to _raise an exception_ using the error string. So, instead of having a line like this, `return f\"{variable_name} was not found in the list of prefixes\"`, you are instead going to have a line like this: `raise ValueError(f\"{variable_name} was not found in the list of prefixes\")`. The Python keyword `raise` is a special keyword like `return`. Both keywords tell Python to immediately stop the function, however, `raise` is used exclusively to interrupt the user and, gracefully, let them know something is wrong (and possibly what they can do to fix it). \n",
    "\n",
    "You are going to write an error string that will give the user more information about the error and use `raise ValueError(...)` to deliver the message.\n",
    "\n",
    "At the end, try out your function with all sorts of values. See what happens when you use an incorrect parameter and cause the error!"
   ]
  },
  {
   "cell_type": "code",
   "execution_count": null,
   "metadata": {},
   "outputs": [],
   "source": [
    "PREFIXES = {\n",
    "    \"p\": 1e-12, # 1e-12 == 10**(-12)\n",
    "    \"n\": 1e-9,\n",
    "    \"u\": 1e-6,\n",
    "    \"m\": 1e-3,\n",
    "    \"k\": 1e3,\n",
    "    \"M\": 1e6,\n",
    "    \"G\": 1e9,\n",
    "    \"T\": 1e12,\n",
    "    \"\": 1,    \n",
    "}\n",
    "\n",
    "def convert_to_meters(...: float, ...: str) -> float:\n",
    "    ..."
   ]
  },
  {
   "cell_type": "code",
   "execution_count": 9,
   "metadata": {},
   "outputs": [],
   "source": [
    "def test_convert_to_meters():\n",
    "    assert convert_to_meters(52.5, \"k\") == 52500\n",
    "    ..."
   ]
  },
  {
   "cell_type": "markdown",
   "metadata": {},
   "source": [
    "# Task 5\n",
    "Using `PREFIXES` again, design a function called `scale_meters(...)` that takes two parameters, a `float` which represents a distance in \"base meters\" (i.e. \"unprefixed\" meters) and a `str` which represents the prefix that you are going to scale the `float` to. This is essentially the same as `convert_to_meters(...)` but in the other direction, e.g. an input of `394.1` and `\"m\"` will return `394100` representing 394100 mm.\n",
    "\n",
    "Raise a descriptive `ValueError` for the user if the string prefix value is not in `PREFIXES`."
   ]
  },
  {
   "cell_type": "code",
   "execution_count": null,
   "metadata": {},
   "outputs": [],
   "source": [
    "def scale_meters(...: float, ...: str) -> float:\n",
    "    ..."
   ]
  },
  {
   "cell_type": "code",
   "execution_count": null,
   "metadata": {},
   "outputs": [],
   "source": [
    "def test_scale_meters():\n",
    "    assert convert_to_meters(52500, \"k\") == 52.5"
   ]
  },
  {
   "cell_type": "markdown",
   "metadata": {},
   "source": [
    "## Task 6\n",
    "\n",
    "Using the functions you have written in **Task 4** and **Task 5**, design a function called `convert_meters(...)` that takes a `float`, a `str`, and another `str` as input values. The function will convert, for example, `3500` from `\"m\"` to `\"u\"`, that is convert 3500 millimeters into micrometers, returning `3500000`.\n",
    "\n",
    "The function signature will look as follows:"
   ]
  },
  {
   "cell_type": "code",
   "execution_count": null,
   "metadata": {},
   "outputs": [],
   "source": [
    "def convert_meters(value: float, convert_from: str, convert_top: str) -> float:\n",
    "    ...\n"
   ]
  },
  {
   "cell_type": "code",
   "execution_count": 12,
   "metadata": {},
   "outputs": [],
   "source": [
    "def test_convert_meters():\n",
    "    assert convert_meters(3500, \"m\", \"u\") == 3500000"
   ]
  }
 ],
 "metadata": {
  "kernelspec": {
   "display_name": "Python 3",
   "language": "python",
   "name": "python3"
  },
  "language_info": {
   "codemirror_mode": {
    "name": "ipython",
    "version": 3
   },
   "file_extension": ".py",
   "mimetype": "text/x-python",
   "name": "python",
   "nbconvert_exporter": "python",
   "pygments_lexer": "ipython3",
   "version": "3.7.7"
  }
 },
 "nbformat": 4,
 "nbformat_minor": 4
}
