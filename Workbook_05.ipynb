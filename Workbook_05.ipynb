{
 "cells": [
  {
   "cell_type": "code",
   "execution_count": null,
   "id": "aa6ce34c-00ea-482b-9786-0e6d99ae9ea7",
   "metadata": {},
   "outputs": [],
   "source": [
    "from rich import inspect, print"
   ]
  },
  {
   "cell_type": "code",
   "execution_count": null,
   "id": "0a7a3cae-987a-4eff-b6c4-393e404d4b9f",
   "metadata": {},
   "outputs": [],
   "source": [
    "import csv\n",
    "from sympy.physics.continuum_mechanics.beam import Beam\n",
    "from sympy.core.symbol import Symbol\n",
    "from sympy import symbols\n",
    "\n",
    "import ipytest\n",
    "ipytest.autoconfig()"
   ]
  },
  {
   "cell_type": "markdown",
   "id": "5a83d963-aa29-4f29-a5f3-80c699a31779",
   "metadata": {
    "tags": []
   },
   "source": [
    "# `dict`\n",
    "\n",
    "## Basics of `dict`\n",
    "\n",
    "A `dict` is a dictionary. Just like a printed dictionary where you look up words to find their meanings, you can use a `dict` to look up keys to find their values. These key/value pairs are stored in the dictionary like a list.\n",
    "\n",
    "You create a dictionary by using _braces_ `{...}`. You separate the keys and values with a _colon_, `:`. You separate key/value pairs with a _comma_ `,`.\n",
    "\n",
    "An example:\n",
    "```python\n",
    "my_dict = {\"concrete\": \"35 MPa\", \"steel\": \"400 MPa\", \"wood\": \"19.2 MPa\"}\n",
    "```\n",
    "\n",
    "Use indexing notation to get the value you want. With a list, you use the position of the list item as the index. With a dictionary, you use the key of the item you want.\n",
    "\n",
    "If a key is _not_ in the `dict`, you get an `IndexError`\n",
    "\n",
    "```python\n",
    "my_dict[\"concrete\"] # Returns \"35 MPa\"\n",
    "my_dict[\"steel\"] # Returns \"400 MPa\"\n",
    "my_dict[\"wood\"] # Returns \"19.2 MPa\"\n",
    "my_dict[\"glass\"] # Raises IndexError because \"glass\" is not in the dict\n",
    "```"
   ]
  },
  {
   "cell_type": "code",
   "execution_count": null,
   "id": "7b1e2432-676b-4c18-b7ac-54a0d2b9d8a1",
   "metadata": {},
   "outputs": [],
   "source": []
  },
  {
   "cell_type": "markdown",
   "id": "edf3ad70-293f-4f60-b0c0-4b780e8ef0e4",
   "metadata": {
    "tags": []
   },
   "source": [
    "### `dict` methods\n",
    "\n",
    "Because `dict` is a built-in type (like `list` and `str`), it also has some built-in methods:\n",
    "\n",
    "Below are some of the most commonly used methods:\n",
    "* `.update(new_dict_values: dict)` - Use .update to add new key/values to the dict or to change the value of an existing key. \n",
    "* `.get(key, [default = None])` - Use .get to get the value associated with the key. If the key is not found then return the \"default\" value.\n",
    "* `.keys()` - Use .keys in a for loop to iterate over the keys of the dictionary\n",
    "* `.values()` - Use .values in a for loop to iterate over the values of the dictionary\n",
    "* `.items()` - Use .items in a for loop to iterate over each key, value pair (i.e. loops over both keys/values at the same time)\n",
    "\n",
    "### Dictionary recipes\n",
    "\n",
    "#### 1. Nesting (similar to list double loop)\n",
    "\n",
    "```python\n",
    "my_nested_data = [[\"Data Label 1\"], [1, 2, 3], [], [\"Data Label 2\"], [3, 4, 5, 6, 7], [], [\"Data Label 3\"], [1, 2]]\n",
    "acc = {}\n",
    "data_acc = [] # Can be a list or dict or any other kind of accumulator\n",
    "for item in my_nested_data:\n",
    "    if <condition_to_distinguish_labels_from_data>: # item is a label\n",
    "        key = item\n",
    "    elif <condition_to_distinguish_end_of_data>: # add the inner_acc to the acc \n",
    "        acc.update({key: data})\n",
    "        data_acc = [] # Reset the inner accumulator\n",
    "    else: # Assumes the item is part of the data\n",
    "        data_acc.append(item)\n",
    "        \n",
    "# Captures the last item from the loop after it finishes\n",
    "# if there is no 'data separator' at the end of the nested data\n",
    "acc.update({key: data_acc})\n",
    "```\n",
    "\n",
    "#### Example\n",
    "\n",
    "```python\n",
    "my_nested_data = [[\"Data Label 1\"], [1, 2, 3], ['hat', 'bath', 12], [], [\"Data Label 2\"], [3, 4, 5], [\"some\", 'other', 'data']]\n",
    "acc = {}\n",
    "data_acc = [] # Can be a list or dict or any other kind of accumulator\n",
    "for item in my_nested_data:\n",
    "    if len(item) == 1: # item is a label\n",
    "        key = item[0]\n",
    "    elif item == []: # add the inner_acc to the acc \n",
    "        acc.update({key: data_acc})\n",
    "        data_acc = [] # Reset the inner accumulator\n",
    "    else: # Assumes the item is part of the data\n",
    "        data_acc.append(item)\n",
    "acc.update({key: data_acc})\n",
    "print(acc)\n",
    "```"
   ]
  },
  {
   "cell_type": "code",
   "execution_count": null,
   "id": "08d76dc4-06ff-451a-8356-e5c2f742d723",
   "metadata": {},
   "outputs": [],
   "source": []
  },
  {
   "cell_type": "markdown",
   "id": "bbfe4297-a6a3-4348-9a07-f5b59ad1ce2c",
   "metadata": {
    "tags": []
   },
   "source": [
    "# 🧩 Workbook 05"
   ]
  },
  {
   "cell_type": "markdown",
   "id": "2a123dc4-f0b0-429d-92f5-f47f7fc79817",
   "metadata": {
    "jp-MarkdownHeadingCollapsed": true,
    "tags": []
   },
   "source": [
    "This week we are augmenting the file format again. It now looks like this:\n",
    "\n",
    "<pre>\n",
    "<b>Beam name</b>\n",
    "Length, [E, I]\n",
    "P, pin support locations (comma separated)\n",
    "F, fixed support locations (comma separated)\n",
    "Load Magnitude, Load Start, Load Order, [Load End]\n",
    "Load Magnitude, Load Start, Load Order, [Load End]\n",
    "\n",
    "<b>Beam name</b>\n",
    "Length, [E, I]\n",
    "P, pin support locations (comma separated)\n",
    "F, fixed support locations (comma separated)\n",
    "Load Magnitude, Load Start, Load Order, [Load End]\n",
    "Load Magnitude, Load Start, Load Order, [Load End]\n",
    "\n",
    "...etc.\n",
    "</pre>\n",
    "Here is an example of what the format looks like with real data:\n",
    "\n",
    "```\n",
    "RoofBeam1\n",
    "168,3850,42\n",
    "P,0,168\n",
    "120,0,0\n",
    "240,0,0\n",
    "              # Note the blank line between beam data remains\n",
    "SteelBeam34\n",
    "142,47000,4200\n",
    "P,0,120\n",
    "F,0\n",
    "120,0,0\n",
    "240,0,0\n",
    "```\n",
    "\n",
    "Everything is the same as last week. The only change is that there is now a **beam name** added for which we are going to use a new data type: `dict` instead of `list`. \n",
    "\n",
    "With `list` we referenced each beam in the file with its index. By using `dict` we can reference each beam _by its name_!\n",
    "\n",
    "### A note about code re-use\n",
    "\n",
    "As you have noticed in this course, there has been opportunity for code re-use from previous workbooks. I encourage you to continue review your past workbooks and re-use code when you can!"
   ]
  },
  {
   "cell_type": "markdown",
   "id": "6d75bc4f-2abd-492f-a346-1dea607b9af8",
   "metadata": {},
   "source": [
    "# Task A\n",
    "\n",
    "Design a function called `read_beams_file` that takes one parameter, a `str` called `filename`, and returns a list of list of string (`list[list[str]]`) representing the lines of data in the file. \n",
    "\n",
    "As you are working on your function, be sure to constantly try calling your function to see what the output is, just like you did with running your cells in the previous workbooks. Always print, print, print so you can see what your code is doing!\n",
    "\n",
    "Write a test for `read_beams_file` and use two `assert` statements to verify that at least two separate lines in the file match the data you expect."
   ]
  },
  {
   "cell_type": "markdown",
   "id": "e8908e1a-a43b-4f72-a5fc-e8354287dbc6",
   "metadata": {},
   "source": [
    "## Task A response"
   ]
  },
  {
   "cell_type": "code",
   "execution_count": null,
   "id": "af74a108-c239-4ab1-b8c4-559503eeb2a6",
   "metadata": {},
   "outputs": [],
   "source": []
  },
  {
   "cell_type": "markdown",
   "id": "16c3fed5-5462-4466-bba6-b1bd46ebb2ea",
   "metadata": {},
   "source": [
    "## Task A tests"
   ]
  },
  {
   "cell_type": "code",
   "execution_count": null,
   "id": "02ac554e-7e3a-42e5-ac63-4c1a2cdb1162",
   "metadata": {},
   "outputs": [],
   "source": []
  },
  {
   "cell_type": "markdown",
   "id": "5eca1c54-d2f9-4da8-a53d-c50fd04d9ce6",
   "metadata": {},
   "source": [
    "# Task B\n",
    "\n",
    "Design a function called `convert_to_int` that takes one parameter, a `list[list[str]]`, and returns a `list[list[str, int]` (which means a list of lists that can contain a combination of `str` and `int`).\n",
    "\n",
    "The function is to convert all numeric strings into integers but leave all non-numeric strings as strings.\n",
    "\n",
    "Write a test for `convert_to_int` that will test the following input scenarios (each have their own `assert` line):\n",
    "1. A line with both a str and an int\n",
    "2. A line with all str\n",
    "3. A line with postive and negative integers"
   ]
  },
  {
   "cell_type": "markdown",
   "id": "854f7278-bf52-4171-9a96-181d5dc3e163",
   "metadata": {},
   "source": [
    "## Task B response"
   ]
  },
  {
   "cell_type": "code",
   "execution_count": null,
   "id": "25cb49b9-b214-455d-8cae-2897e5e83334",
   "metadata": {},
   "outputs": [],
   "source": []
  },
  {
   "cell_type": "markdown",
   "id": "b98ae33a-52a6-4add-87f1-8779d7b080c1",
   "metadata": {},
   "source": [
    "## Task B tests"
   ]
  },
  {
   "cell_type": "code",
   "execution_count": null,
   "id": "da669bba-c87f-4333-b68f-f0c25fcd803b",
   "metadata": {},
   "outputs": [],
   "source": []
  },
  {
   "cell_type": "markdown",
   "id": "064c4181-7e97-4ddc-9808-99d39b931ade",
   "metadata": {},
   "source": [
    "# Task C\n",
    "\n",
    "Design a function called `separate_beam_data` that takes one parameter, a `list[list[str, int]]` and returns a `dict[str, list[list[str, int]]]` (a dictionary with `str` keys and values of `list[list[str, int]]`).\n",
    "\n",
    "Similar to **Task C** in **Workbook 04**, this function will separate the beam data. However, it will be different than the code in **Task 04/C** in that you will now \"parse\" the name of the beam. The name of the beam will become the dictionary key and, with the resulting dictionary, you will be able to see the beam data by using the beam name as the index.\n",
    "\n",
    "e.g.\n",
    "\n",
    "**Task 04/C** resulted in this:\n",
    "```python\n",
    "beams[1] # Access list index 1 to return the list[list[str, int]]\n",
    "```\n",
    "\n",
    "```\n",
    "[[228, 28000, 756], ['P', 63, 100, 200], [150, 0, 0], [350, 0, 0]]\n",
    "```\n",
    "\n",
    "**Task 05/C** will result in this:\n",
    "```python\n",
    "beams[\"FB45\"]\n",
    "```\n",
    "\n",
    "```\n",
    "[[228, 28000, 756], ['P', 63, 100, 200], [150, 0, 0], [350, 0, 0]]\n",
    "```"
   ]
  },
  {
   "cell_type": "markdown",
   "id": "b835350a-3300-4502-b133-518f18649d05",
   "metadata": {},
   "source": [
    "## Task C response"
   ]
  },
  {
   "cell_type": "code",
   "execution_count": null,
   "id": "79978de5-ed3e-42ac-b8b7-191eb80e499e",
   "metadata": {},
   "outputs": [],
   "source": []
  },
  {
   "cell_type": "markdown",
   "id": "1bdb5887-7854-4491-b32b-f0d5b3ebc246",
   "metadata": {},
   "source": [
    "## Task C tests"
   ]
  },
  {
   "cell_type": "code",
   "execution_count": null,
   "id": "52ed550e-66da-4921-9d24-73335b216531",
   "metadata": {},
   "outputs": [],
   "source": []
  },
  {
   "cell_type": "markdown",
   "id": "0e3f0d2f-10b3-447d-9600-ad99a6b7e7cc",
   "metadata": {
    "tags": []
   },
   "source": [
    "# Task D\n",
    "\n",
    "Now, this is where things are going to steer away from how they were done in **Workbook 04**. \n",
    "\n",
    "In Workbook 04, we had a big loop that added all of the data for one beam into a new `Beam` object for analysis. In **Workbook 05** we are going to break this whole loop up into three separate functions.\n",
    "\n",
    "First, you are going to design a function called `add_pin_support_to_beam`. It will take **three** parameters, as follows:\n",
    "1. A sympy `Beam` object\n",
    "2. An integer representing which support number it is (e.g. `0`, `1`, `2`, etc.)\n",
    "3. An integer representing a support location on the beam (e.g. `0` or `1800` or whatever)\n",
    "\n",
    "It will return a `Tuple[Beam, Symbol]` which is a way of saying that it will return **two** values (which will automatically be bundled up in a `tuple` by python).\n",
    "\n",
    "**Note:** For pin supports, be sure to name your reaction symbol something like `\"RP_0\"` or `\"RP_1\"` where `\"0\"` and `\"1\"` represent your support number."
   ]
  },
  {
   "cell_type": "markdown",
   "id": "0c200940-2afb-42e9-8466-239baebd6c42",
   "metadata": {
    "jp-MarkdownHeadingCollapsed": true,
    "tags": []
   },
   "source": [
    "> ### Why are we returning _two_ values?\n",
    "\n",
    "> If you look back to **Task 04/D**, when we created a pin support, we had to do a few things:\n",
    "> 1. Add our reaction `Symbol` (e.g. `RP_1` or whatever) to a list of reaction symbols\n",
    "> 2. Add our reactions as \"loads\" to the `Beam` object\n",
    "> 3. Add our boundary conditions at the support location (within the `Beam` object)\n",
    "\n",
    "> Items **2** and **3** are changes made to the `Beam` object and when we return the altered `Beam` object at the end of our function it will have the changed data within it. \n",
    "\n",
    "> When we _solve_ the beam object with `.solve_for_reaction_loads()` we have to pass all of our reaction symbols to the method in order for them to be solved. This means, after our function runs, we need to have access to the reaction symbol that was created _within_ the function. Remember, using `return` is the way that we can transfer data from inside the function scope to outside the function scope. By returning the symbol created within the function along with the `Beam`, we can add the symbol to an accumulator in our \"master loop\".\n",
    "\n",
    "> _Note_: The fact that we need to externally pass the reaction symbols to the `Beam` object is, to me, a design flaw of the sympy `beam` module. I plan on submitting a change to the beam module in the future so that this does not need to happen but, for now, this is the way it has to work. "
   ]
  },
  {
   "cell_type": "markdown",
   "id": "e3af1c77-bc3c-40e4-ae55-7090b63f6c36",
   "metadata": {},
   "source": [
    "# Task D response"
   ]
  },
  {
   "cell_type": "code",
   "execution_count": null,
   "id": "27db9a05-3789-4f8e-8837-76034327b8b1",
   "metadata": {},
   "outputs": [],
   "source": []
  },
  {
   "cell_type": "markdown",
   "id": "0fd74270-9113-45ee-a845-125a769f74be",
   "metadata": {},
   "source": [
    "# Task D test"
   ]
  },
  {
   "cell_type": "code",
   "execution_count": null,
   "id": "d4b371ef-e4a8-462b-b6ab-2a81fec7a094",
   "metadata": {},
   "outputs": [],
   "source": []
  },
  {
   "cell_type": "markdown",
   "id": "32e5a7f8-91b7-424c-910a-18582d8b914d",
   "metadata": {},
   "source": [
    "# Task E\n",
    "\n",
    "This the second of the three \"break out\" functions.\n",
    "\n",
    "Similar to **Task D**, you are now going to design a function called `add_fix_support_to_beam`. It will take **three** parameters, as follows:\n",
    "\n",
    "1. A sympy `Beam` object\n",
    "2. An integer representing which support number it is (e.g. `0`, `1`, `2`, etc.)\n",
    "3. An integer representing a support location on the beam (e.g. `0` or `1800` or whatever)\n",
    "\n",
    "It will return a `Tuple[Beam, Symbol, Symbol]` which is a way of saying that it will return **three** values: the `Beam` object, the deflection reaction, and the slope reaction.\n",
    "\n",
    "**Note:** For fix supports, be sure to name your reaction symbols something like `\"RD_0\"` and `\"RD_1\"` (for deflection unknowns) and `\"RS_0\"` and `\"RS_1\"` (for slope unknowns), where `\"0\"` and `\"1\"`, etc. just represent the support number."
   ]
  },
  {
   "cell_type": "markdown",
   "id": "57daf586-6858-4c68-a3a5-02edfc7c1330",
   "metadata": {},
   "source": [
    "## Task E response"
   ]
  },
  {
   "cell_type": "code",
   "execution_count": null,
   "id": "1603a802-f411-4568-9c1f-f109b92d605b",
   "metadata": {},
   "outputs": [],
   "source": []
  },
  {
   "cell_type": "markdown",
   "id": "d9ecb8c6-961a-456b-ab5c-78978ecf59d7",
   "metadata": {},
   "source": [
    "## Task E tests\n",
    "\n"
   ]
  },
  {
   "cell_type": "code",
   "execution_count": null,
   "id": "bba030b0-104e-4e1f-8fc3-74ee4f379922",
   "metadata": {},
   "outputs": [],
   "source": []
  },
  {
   "cell_type": "markdown",
   "id": "fc32fabd-dc8f-4895-a6d9-e254bfa6d045",
   "metadata": {},
   "source": [
    "# Task F\n",
    "\n",
    "This is the third of the three \"break out\" functions.\n",
    "\n",
    "Design a function called `solve_beam`. It takes one parameter: a `list[list[str]]` which represents all of the data for one beam from the file data. The function returns a `Beam` object with all of the data loaded into it and after `.solve_for_reaction_loads()` has been run on it.\n",
    "\n",
    "To accomplish this, you will be using the functions you created in **Task D** and **Task E**. Think of them as your \"helper\" functions.\n",
    "\n",
    "Feel free to also refer to your **Task 04/D** response for guidance.\n",
    "\n",
    "**Tests** \n",
    "\n",
    "Because we are working with `sympy` objects, doing a proper test on the solved beam is a bit fussier. So I will give you a test to run that checks to see if the reaction load from a UDL comes out as expected and the moment from a cantilevered beam comes out as expected.\n",
    "\n",
    "Copy-paste the below code into the **...test** cell\n",
    "\n",
    "\n",
    "```python\n",
    "import pytest\n",
    "\n",
    "def test_solve_beam():\n",
    "    test_beams = {\n",
    "        'bm1': [\n",
    "        [4000, 200e9, 450000000],\n",
    "        ['P', 0, 4000],\n",
    "        [100, 0, 0]\n",
    "        ],\n",
    "        'bm2': [\n",
    "        [4000, 200e9, 450000000],\n",
    "        ['F', 0],\n",
    "        [100, 0, 0],\n",
    "        ]     \n",
    "    }\n",
    "    bm1 = solve_beam(test_beams['bm1'])\n",
    "    reactions = bm1.reaction_loads\n",
    "    reaction_symbols = [symbol for symbol in reactions.keys()]\n",
    "    pytest.approx(\n",
    "        float(reactions[reaction_symbols[0]]), 4000*100/2\n",
    "    )\n",
    "    bm2 = solve_beam(test_beams['bm2'])\n",
    "    reactions = bm2.reaction_loads\n",
    "    reaction_symbols = [symbol for symbol in reactions.keys()]\n",
    "    pytest.approx(\n",
    "        float(reactions[reaction_symbols[1]]), 4000*100**2/2\n",
    "    )\n",
    "    \n",
    "ipytest.run()\n",
    "```\n",
    "    \n"
   ]
  },
  {
   "cell_type": "markdown",
   "id": "3b0de15b-2579-45b7-8300-1a3b21dcb884",
   "metadata": {},
   "source": [
    "## Task F response"
   ]
  },
  {
   "cell_type": "code",
   "execution_count": null,
   "id": "a8ec8827-fa79-42c3-9342-ccccccbaea36",
   "metadata": {},
   "outputs": [],
   "source": []
  },
  {
   "cell_type": "markdown",
   "id": "a246a842-f815-4ebb-9ef7-b5fc8f3eb07d",
   "metadata": {},
   "source": [
    "## Task F test"
   ]
  },
  {
   "cell_type": "code",
   "execution_count": null,
   "id": "174cc3eb-1940-4d6f-83b3-cfc401e4f82d",
   "metadata": {},
   "outputs": [],
   "source": []
  },
  {
   "cell_type": "markdown",
   "id": "7310d5ea-5a27-4022-bf79-3b0810f5982a",
   "metadata": {},
   "source": [
    "# Task G\n",
    "\n",
    "Try using your functions!\n",
    "\n",
    "In the cell below, try this:\n",
    "\n",
    "```python\n",
    "filename = \"beams.txt\"\n",
    "beams_data = separate_beams_data(convert_to_int(read_beams_file(filename)))\n",
    "print([key for key in beams_data.keys()])\n",
    "beam = solve_beam(beams_data['RB1'])\n",
    "beam.plot_shear_force()\n",
    "beam.plot_bending_moment()\n",
    "beam.plot_deflection()\n",
    "```\n",
    "\n",
    "1. Try putting in the different beam names to see the different diagrams\n",
    "2. The above code is still a bit script-y. You could probably write some more functions to make things easier to use. For example, using your existing functions, it would probably be easy to write a short function that prints all of the beam names from the beam file. Do you see how you could do it? Don't write it, just think about it and imagine what you would do.\n",
    "3. Maybe it would be easy to write a function to plot all three diagrams given a solved beam as an input parameter? Don't write it, just think about it and imagine what you would do.\n",
    "4. Maybe you could write one function that reads all of the beams in a beams file and prints all of the results in one go. To do all this, you would only need one input parameter: the filename! Talk about automation, yeah?\n",
    "5. You have written a lot of Python code, friend! Lets see what it looks like. Copy and paste all of your functions (not your tests), sequentially (A -> B -> C..., etc.) into the cell below. Stand back and just look at them all. This is what writing a program looks like :)\n"
   ]
  },
  {
   "cell_type": "code",
   "execution_count": null,
   "id": "aefa5bd4-3d8b-4bf5-b1c8-4e616e1d3c8c",
   "metadata": {},
   "outputs": [],
   "source": []
  },
  {
   "cell_type": "markdown",
   "id": "c4a80c5f-0ec2-4989-9a6d-b041317f8f71",
   "metadata": {},
   "source": [
    "## Task G response: Paste your functions down below"
   ]
  },
  {
   "cell_type": "code",
   "execution_count": null,
   "id": "22c7a209-699d-4b74-ab61-ffd36957bc1b",
   "metadata": {},
   "outputs": [],
   "source": []
  },
  {
   "cell_type": "markdown",
   "id": "6fca26fc-b77e-45c5-a651-c934b2eca8b3",
   "metadata": {},
   "source": [
    "# 🎷 Submit Workbook 05\n",
    "\n",
    "This was a big assignment. Hopefully it went a little faster because you were able to copy-paste and generally re-use code you have written before.\n",
    "\n",
    "The process of writing functions and \"helper\" functions is part of what's called \"functional program design\". You write functions that perform all of the individual small tasks you need to do. From there, you combine them to perform the larger tasks. Eventually, you may end up with a program that just calls one or two functions to do all of the work by calling all of your smaller functions. \n",
    "\n",
    "This is one very good way of designing programs. Done properly (using one-task-per-function and writing tests for each function) you can build powerful and robust programs very quickly.\n",
    "\n",
    "For now, email your completed workbook to me at `cferster@rjc.ca` with the subject line `Workbook 05 Submission`"
   ]
  },
  {
   "cell_type": "code",
   "execution_count": null,
   "id": "3ce905c1-ea6c-442d-97f5-f76648d07f9b",
   "metadata": {},
   "outputs": [],
   "source": []
  }
 ],
 "metadata": {
  "kernelspec": {
   "display_name": "Python 3 (ipykernel)",
   "language": "python",
   "name": "python3"
  },
  "language_info": {
   "codemirror_mode": {
    "name": "ipython",
    "version": 3
   },
   "file_extension": ".py",
   "mimetype": "text/x-python",
   "name": "python",
   "nbconvert_exporter": "python",
   "pygments_lexer": "ipython3",
   "version": "3.9.7"
  }
 },
 "nbformat": 4,
 "nbformat_minor": 5
}
